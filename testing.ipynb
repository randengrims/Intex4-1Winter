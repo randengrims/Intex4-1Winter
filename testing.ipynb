{
 "cells": [
  {
   "cell_type": "code",
   "execution_count": 4,
   "metadata": {},
   "outputs": [
    {
     "name": "stdout",
     "output_type": "stream",
     "text": [
      "  show_id     type                  title         director  \\\n",
      "0      s1    Movie   Dick Johnson Is Dead  Kirsten Johnson   \n",
      "1      s2  TV Show          Blood & Water             None   \n",
      "2      s3  TV Show              Ganglands  Julien Leclercq   \n",
      "3      s4  TV Show  Jailbirds New Orleans             None   \n",
      "4      s5  TV Show           Kota Factory             None   \n",
      "\n",
      "                                                cast        country  \\\n",
      "0  Michael Hilow, Ana Hoffman, Dick Johnson, Kirs...  United States   \n",
      "1  Ama Qamata Khosi Ngema Gail Mabalane Thabang M...   South Africa   \n",
      "2  Sami Bouajila Tracy Gotoas Samuel Jouy Nabiha ...           None   \n",
      "3                                               None           None   \n",
      "4  Mayur More Jitendra Kumar Ranjan Raj Alam Khan...          India   \n",
      "\n",
      "   release_year rating   duration  \\\n",
      "0          2020  PG-13     90 min   \n",
      "1          2021  TV-MA  2 Seasons   \n",
      "2          2021  TV-MA   1 Season   \n",
      "3          2021  TV-MA   1 Season   \n",
      "4          2021  TV-MA  2 Seasons   \n",
      "\n",
      "                                         description  ...  Language TV Shows  \\\n",
      "0  As her father nears the end of his life filmma...  ...                  0   \n",
      "1  After crossing paths at a party a Cape Town te...  ...                  0   \n",
      "2  To protect his family from a powerful drug lor...  ...                  0   \n",
      "3  Feuds flirtations and toilet talk go down amon...  ...                  0   \n",
      "4  In a city of coaching centers known to train I...  ...                  0   \n",
      "\n",
      "   Musicals  Nature TV  Reality TV  Spirituality  TV Action  TV Comedies  \\\n",
      "0         0          0           0             0          0            0   \n",
      "1         0          0           0             0          0            0   \n",
      "2         0          0           0             0          1            0   \n",
      "3         0          0           1             0          0            0   \n",
      "4         0          0           0             0          0            1   \n",
      "\n",
      "   TV Dramas  Talk Shows TV Comedies  Thrillers  \n",
      "0          0                       0          0  \n",
      "1          1                       0          0  \n",
      "2          0                       0          0  \n",
      "3          0                       0          0  \n",
      "4          0                       0          0  \n",
      "\n",
      "[5 rows x 42 columns]\n"
     ]
    }
   ],
   "source": [
    "import sqlite3\n",
    "import pandas as pd\n",
    "\n",
    "# Connect to database\n",
    "conn = sqlite3.connect(\"C:/Users/spenc/Downloads/Movies.db\")\n",
    "\n",
    "# Load data into a DataFrame\n",
    "df = pd.read_sql_query(\"SELECT * FROM movies_titles;\", conn)\n",
    "\n",
    "# View the first few rows\n",
    "print(df.head())\n"
   ]
  },
  {
   "cell_type": "code",
   "execution_count": 5,
   "metadata": {},
   "outputs": [
    {
     "name": "stdout",
     "output_type": "stream",
     "text": [
      "show_id                                                  0\n",
      "type                                                     0\n",
      "title                                                    0\n",
      "director                                              2114\n",
      "cast                                                   119\n",
      "country                                                814\n",
      "release_year                                             0\n",
      "rating                                                   4\n",
      "duration                                                 1\n",
      "description                                              0\n",
      "Action                                                   0\n",
      "Adventure                                                0\n",
      "Anime Series International TV Shows                      0\n",
      "British TV Shows Docuseries International TV Shows       0\n",
      "Children                                                 0\n",
      "Comedies                                                 0\n",
      "Comedies Dramas International Movies                     0\n",
      "Comedies International Movies                            0\n",
      "Comedies Romantic Movies                                 0\n",
      "Crime TV Shows Docuseries                                0\n",
      "Documentaries                                            0\n",
      "Documentaries International Movies                       0\n",
      "Docuseries                                               0\n",
      "Dramas                                                   0\n",
      "Dramas International Movies                              0\n",
      "Dramas Romantic Movies                                   0\n",
      "Family Movies                                            0\n",
      "Fantasy                                                  0\n",
      "Horror Movies                                            0\n",
      "International Movies Thrillers                           0\n",
      "International TV Shows Romantic TV Shows TV Dramas       0\n",
      "Kids' TV                                                 0\n",
      "Language TV Shows                                        0\n",
      "Musicals                                                 0\n",
      "Nature TV                                                0\n",
      "Reality TV                                               0\n",
      "Spirituality                                             0\n",
      "TV Action                                                0\n",
      "TV Comedies                                              0\n",
      "TV Dramas                                                0\n",
      "Talk Shows TV Comedies                                   0\n",
      "Thrillers                                                0\n",
      "dtype: int64\n"
     ]
    }
   ],
   "source": [
    "missing_counts = df.isna().sum()\n",
    "print(missing_counts)"
   ]
  },
  {
   "cell_type": "code",
   "execution_count": 6,
   "metadata": {},
   "outputs": [
    {
     "data": {
      "text/plain": [
       "(5819, 42)"
      ]
     },
     "execution_count": 6,
     "metadata": {},
     "output_type": "execute_result"
    }
   ],
   "source": [
    "df.dropna(inplace=True)\n",
    "df.shape"
   ]
  },
  {
   "cell_type": "code",
   "execution_count": null,
   "metadata": {},
   "outputs": [],
   "source": []
  }
 ],
 "metadata": {
  "kernelspec": {
   "display_name": "Python 3",
   "language": "python",
   "name": "python3"
  },
  "language_info": {
   "codemirror_mode": {
    "name": "ipython",
    "version": 3
   },
   "file_extension": ".py",
   "mimetype": "text/x-python",
   "name": "python",
   "nbconvert_exporter": "python",
   "pygments_lexer": "ipython3",
   "version": "3.11.9"
  }
 },
 "nbformat": 4,
 "nbformat_minor": 5
}
