{
 "cells": [
  {
   "cell_type": "code",
   "execution_count": null,
   "id": "0b17a824",
   "metadata": {},
   "outputs": [],
   "source": [
    "import numpy as np\n",
    "import pandas fas pd\n",
    "import statsmodels.api as sm\n",
    "\n",
    "df = pd.read_csv('/content/drive/MyDrive/Colab Notebooks/data/insurance.csv')\n",
    "\n",
    "# Set label and features\n",
    "y = df['charges']\n",
    "X = df.select_dtypes(np.number).assign(const=1)\n",
    "X = X.drop(columns=['charges'])\n",
    "X.head()"
   ]
  },
  {
   "cell_type": "code",
   "execution_count": null,
   "id": "a8cde9d6",
   "metadata": {},
   "outputs": [],
   "source": [
    "# Run the multiple linear regression model\n",
    "model = sm.OLS(y, X)\n",
    "results = model.fit()\n",
    "\n",
    "# View results\n",
    "print(results.summary())"
   ]
  },
  {
   "cell_type": "code",
   "execution_count": null,
   "id": "88509e51",
   "metadata": {},
   "outputs": [],
   "source": [
    "dummies = df.select_dtypes(['object']).columns  # Creates a list of categorical column names\n",
    "df = pd.get_dummies(df, columns=dummies)  # Dummy code all categorical variables\n",
    "\n",
    "df.head()"
   ]
  },
  {
   "cell_type": "code",
   "execution_count": null,
   "id": "b96c9a77",
   "metadata": {},
   "outputs": [],
   "source": [
    "# Question 2: Print out missing values for each column in the \n",
    "\n",
    "missing_counts = df.isna().sum()\n",
    "print(missing_counts)"
   ]
  },
  {
   "cell_type": "code",
   "execution_count": null,
   "id": "a28ad39c",
   "metadata": {},
   "outputs": [],
   "source": [
    "import pandas as pd\n",
    "\n",
    "def clean_dataframe(df, threshold=0.3):\n",
    "    # Calculate missing value percentages\n",
    "    missing_proportion = df.isna().sum() / df.shape[0]\n",
    "\n",
    "    # Identify columns to drop (more than threshold % missing)\n",
    "    cols_to_drop = missing_proportion[missing_proportion > threshold].index.tolist()\n",
    "    \n",
    "    # Drop those columns\n",
    "    df.drop(columns=cols_to_drop, inplace=True)\n",
    "    \n",
    "    # Print summary of missing value proportions for remaining columns\n",
    "    print(\"Missing Value Proportions in Remaining Columns:\")\n",
    "    print(missing_proportion)  # No multiplication by 100\n",
    "    \n",
    "    return df\n",
    "\n",
    "\n",
    "df_copy = df.copy()\n",
    "cleaned_df = clean_dataframe(df_copy)\n",
    "cleaned_df.head()\n"
   ]
  },
  {
   "cell_type": "code",
   "execution_count": null,
   "id": "06bce457",
   "metadata": {},
   "outputs": [],
   "source": [
    "import numpy as np\n",
    "\n",
    "# Define label (y) and feature set (X)\n",
    "y = new_copy[\"IN_SCHOOL_FLAG\"]  # Label\n",
    "X = new_copy.drop(columns=[\"IN_SCHOOL_FLAG\"])  # Remove label from features\n",
    "\n",
    "# Keep only numerical features\n",
    "X = X.select_dtypes(np.number)\n",
    "\n",
    "# Print the first five records of X to verify\n",
    "print(X.head())\n"
   ]
  },
  {
   "cell_type": "code",
   "execution_count": null,
   "metadata": {},
   "outputs": [],
   "source": [
    "# Split the y and X sets into training and testing sets. Do \n",
    "# a 70/30 split meaning 70% training data. Use a random seed of 12345.\n",
    "# Print out the first five records of the X_test dataset.\n",
    "from sklearn.model_selection import train_test_split\n",
    "\n",
    "# Split the dataset into training (70%) and testing (30%) sets with a fixed random seed of 12345\n",
    "X_train, X_test, y_train, y_test = train_test_split(X, y, test_size=0.3, random_state=12345)\n",
    "\n",
    "# Print the first five records of the X_test dataset\n",
    "X_test.head()"
   ]
  }
 ],
 "metadata": {
  "language_info": {
   "name": "python"
  }
 },
 "nbformat": 4,
 "nbformat_minor": 5
}
